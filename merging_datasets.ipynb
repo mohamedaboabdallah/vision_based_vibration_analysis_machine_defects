{
 "cells": [
  {
   "cell_type": "code",
   "execution_count": 2,
   "id": "3cef2758",
   "metadata": {},
   "outputs": [
    {
     "name": "stdout",
     "output_type": "stream",
     "text": [
      "Copied: Datasets\\Bearing_fault\\segmented_10\\segmented_10_features.csv -> final_dataset\\10s\\Bearing_fault\\segmented_10_features.csv\n",
      "Copied: Datasets\\Bearing_fault\\segmented_10_overlap\\segmented_10_overlap_features.csv -> final_dataset\\10s_overlap\\Bearing_fault\\segmented_10_overlap_features.csv\n",
      "Copied: Datasets\\Bearing_fault\\segmented_15\\segmented_15_features.csv -> final_dataset\\15s\\Bearing_fault\\segmented_15_features.csv\n",
      "Copied: Datasets\\Bearing_fault\\segmented_15_overlap\\segmented_15_overlap_features.csv -> final_dataset\\15s_overlap\\Bearing_fault\\segmented_15_overlap_features.csv\n",
      "Copied: Datasets\\Bearing_fault\\segmented_5\\segmented_5_features.csv -> final_dataset\\5s\\Bearing_fault\\segmented_5_features.csv\n",
      "Copied: Datasets\\Bearing_fault\\segmented_5_overlap\\segmented_5_overlap_features.csv -> final_dataset\\5s_overlap\\Bearing_fault\\segmented_5_overlap_features.csv\n",
      "Copied: Datasets\\Normal_state\\segmented_10\\segmented_10_features.csv -> final_dataset\\10s\\Normal_state\\segmented_10_features.csv\n",
      "Copied: Datasets\\Normal_state\\segmented_10_overlap\\segmented_10_overlap_features.csv -> final_dataset\\10s_overlap\\Normal_state\\segmented_10_overlap_features.csv\n",
      "Copied: Datasets\\Normal_state\\segmented_15\\segmented_15_features.csv -> final_dataset\\15s\\Normal_state\\segmented_15_features.csv\n",
      "Copied: Datasets\\Normal_state\\segmented_15_overlap\\segmented_15_overlap_features.csv -> final_dataset\\15s_overlap\\Normal_state\\segmented_15_overlap_features.csv\n",
      "Copied: Datasets\\Normal_state\\segmented_5\\segmented_5_features.csv -> final_dataset\\5s\\Normal_state\\segmented_5_features.csv\n",
      "Copied: Datasets\\Normal_state\\segmented_5_overlap\\segmented_5_overlap_features.csv -> final_dataset\\5s_overlap\\Normal_state\\segmented_5_overlap_features.csv\n",
      "Copied: Datasets\\Unbalance_weight\\segmented_10\\segmented_10_features.csv -> final_dataset\\10s\\Unbalance_weight\\segmented_10_features.csv\n",
      "Copied: Datasets\\Unbalance_weight\\segmented_10_overlap\\segmented_10_overlap_features.csv -> final_dataset\\10s_overlap\\Unbalance_weight\\segmented_10_overlap_features.csv\n",
      "Copied: Datasets\\Unbalance_weight\\segmented_15\\segmented_15_features.csv -> final_dataset\\15s\\Unbalance_weight\\segmented_15_features.csv\n",
      "Copied: Datasets\\Unbalance_weight\\segmented_15_overlap\\segmented_15_overlap_features.csv -> final_dataset\\15s_overlap\\Unbalance_weight\\segmented_15_overlap_features.csv\n",
      "Copied: Datasets\\Unbalance_weight\\segmented_5\\segmented_5_features.csv -> final_dataset\\5s\\Unbalance_weight\\segmented_5_features.csv\n",
      "Copied: Datasets\\Unbalance_weight\\segmented_5_overlap\\segmented_5_overlap_features.csv -> final_dataset\\5s_overlap\\Unbalance_weight\\segmented_5_overlap_features.csv\n",
      "Dataset reorganization completed!\n"
     ]
    }
   ],
   "source": [
    "import os\n",
    "import shutil\n",
    "\n",
    "# Define paths\n",
    "original_segmented_dir = 'Datasets'  \n",
    "final_dataset_dir = 'final_dataset'     \n",
    "\n",
    "# Ensure the final dataset directory exists\n",
    "os.makedirs(final_dataset_dir, exist_ok=True)\n",
    "\n",
    "# Process each class folder (Bearing_fault, Normal_state, Unbalance_weight)\n",
    "for class_name in os.listdir(original_segmented_dir):\n",
    "    class_path = os.path.join(original_segmented_dir, class_name)\n",
    "    \n",
    "    # Skip non-directory files (if any)\n",
    "    if not os.path.isdir(class_path):\n",
    "        continue\n",
    "    \n",
    "    # Process each segmented duration folder within the class folder\n",
    "    for segmented_folder in os.listdir(class_path):\n",
    "        segmented_folder_path = os.path.join(class_path, segmented_folder)\n",
    "        \n",
    "        # Skip non-directory files\n",
    "        if not os.path.isdir(segmented_folder_path):\n",
    "            continue\n",
    "        \n",
    "        # Extract duration and overlap info from the folder name (e.g., \"segmented_5\" -> 5s, \"segmented_10_overlap\" -> 10s_overlap)\n",
    "        folder_parts = segmented_folder.split('_')\n",
    "        duration = folder_parts[1]  # Get the duration part (5, 10, 15)\n",
    "        \n",
    "        # Check if the folder is for overlapping segments\n",
    "        if 'overlap' in folder_parts:\n",
    "            new_duration_folder = f\"{duration}s_overlap\"\n",
    "        else:\n",
    "            new_duration_folder = f\"{duration}s\"\n",
    "        \n",
    "        # Create the target directory for this duration and class\n",
    "        target_dir = os.path.join(final_dataset_dir, new_duration_folder, class_name)\n",
    "        os.makedirs(target_dir, exist_ok=True)\n",
    "        \n",
    "        # Copy all video segments from the source to the target directory\n",
    "        for segment_file in os.listdir(segmented_folder_path):\n",
    "            src_path = os.path.join(segmented_folder_path, segment_file)\n",
    "            dest_path = os.path.join(target_dir, segment_file)\n",
    "            \n",
    "            # Copy the file\n",
    "            shutil.copy2(src_path, dest_path)\n",
    "            print(f\"Copied: {src_path} -> {dest_path}\")\n",
    "\n",
    "print(\"Dataset reorganization completed!\")"
   ]
  }
 ],
 "metadata": {
  "kernelspec": {
   "display_name": "Python 3",
   "language": "python",
   "name": "python3"
  },
  "language_info": {
   "codemirror_mode": {
    "name": "ipython",
    "version": 3
   },
   "file_extension": ".py",
   "mimetype": "text/x-python",
   "name": "python",
   "nbconvert_exporter": "python",
   "pygments_lexer": "ipython3",
   "version": "3.11.9"
  }
 },
 "nbformat": 4,
 "nbformat_minor": 5
}
