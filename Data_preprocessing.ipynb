{
 "cells": [
  {
   "cell_type": "code",
   "execution_count": 1,
   "id": "ebdab026",
   "metadata": {},
   "outputs": [],
   "source": [
    "import cv2\n",
    "import os"
   ]
  },
  {
   "cell_type": "code",
   "execution_count": null,
   "id": "3c08841e",
   "metadata": {},
   "outputs": [],
   "source": [
    "def preprocess_video(video_path, output_dir, crop_box=None, equalize_hist=True):\n",
    "    \"\"\"\n",
    "    Args:\n",
    "        video_path (str): Path to input video.\n",
    "        output_dir (str): Directory to save preprocessed frames.\n",
    "        crop_box (tuple or None): (x, y, w, h) crop region. If None, no cropping.\n",
    "        equalize_hist (bool): Apply histogram equalization to grayscale frames.\n",
    "    \"\"\"\n",
    "    os.makedirs(output_dir, exist_ok=True)\n",
    "\n",
    "    cap = cv2.VideoCapture(video_path)\n",
    "    frame_idx = 0\n",
    "\n",
    "    while True:\n",
    "        ret, frame = cap.read()\n",
    "        if not ret:\n",
    "            break\n",
    "\n",
    "        # Convert to grayscale\n",
    "        gray = cv2.cvtColor(frame, cv2.COLOR_BGR2GRAY)\n",
    "\n",
    "        # Crop if crop_box is given\n",
    "        if crop_box:\n",
    "            x, y, w, h = crop_box\n",
    "            gray = gray[y:y+h, x:x+w]\n",
    "\n",
    "        # Histogram Equalization\n",
    "        if equalize_hist:\n",
    "            gray = cv2.equalizeHist(gray)\n",
    "\n",
    "        # Save preprocessed frame\n",
    "        output_path = os.path.join(output_dir, f\"frame_{frame_idx:04d}.png\")\n",
    "        cv2.imwrite(output_path, gray)\n",
    "        frame_idx += 1\n",
    "\n",
    "    cap.release()\n",
    "    print(f\"Saved {frame_idx} preprocessed frames to: {output_dir}\")"
   ]
  },
  {
   "cell_type": "code",
   "execution_count": null,
   "id": "20181161",
   "metadata": {},
   "outputs": [],
   "source": [
    "video_path = \"data/Bearing_fault/front.avi\"\n",
    "output_dir = \"preprocessed_data/Bearing_fault/front\"\n",
    "# Example crop box: x=100, y=80, width=300, height=300 (you can adjust)\n",
    "crop_box = (100, 80, 300, 300)\n",
    "\n",
    "preprocess_video(video_path, output_dir, crop_box=crop_box, equalize_hist=True)"
   ]
  }
 ],
 "metadata": {
  "kernelspec": {
   "display_name": "Python 3",
   "language": "python",
   "name": "python3"
  },
  "language_info": {
   "codemirror_mode": {
    "name": "ipython",
    "version": 3
   },
   "file_extension": ".py",
   "mimetype": "text/x-python",
   "name": "python",
   "nbconvert_exporter": "python",
   "pygments_lexer": "ipython3",
   "version": "3.11.7"
  }
 },
 "nbformat": 4,
 "nbformat_minor": 5
}
