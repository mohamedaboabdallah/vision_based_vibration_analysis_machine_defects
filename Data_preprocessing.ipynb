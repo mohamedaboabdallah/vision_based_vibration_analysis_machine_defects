{
 "cells": [
  {
   "cell_type": "code",
   "execution_count": null,
   "id": "ebdab026",
   "metadata": {},
   "outputs": [],
   "source": [
    "import cv2\n",
    "import numpy as np\n",
    "import os\n",
    "\n"
   ]
  },
  {
   "cell_type": "code",
   "execution_count": 2,
   "id": "2333be5d",
   "metadata": {},
   "outputs": [],
   "source": [
    "# ========== STEP 1: Stabilize Video ==========\n",
    "def stabilize_video(video_path):\n",
    "    cap = cv2.VideoCapture(video_path)\n",
    "    ret, prev = cap.read()\n",
    "    if not ret:\n",
    "        raise ValueError(\"Could not read the first frame.\")\n",
    "\n",
    "    prev_gray = cv2.cvtColor(prev, cv2.COLOR_BGR2GRAY)\n",
    "    stabilized_frames = [prev]\n",
    "    transforms = []\n",
    "\n",
    "    while True:\n",
    "        ret, curr = cap.read()\n",
    "        if not ret:\n",
    "            break\n",
    "\n",
    "        curr_gray = cv2.cvtColor(curr, cv2.COLOR_BGR2GRAY)\n",
    "        prev_pts = cv2.goodFeaturesToTrack(prev_gray, maxCorners=200, qualityLevel=0.01, minDistance=30)\n",
    "        curr_pts, status, _ = cv2.calcOpticalFlowPyrLK(prev_gray, curr_gray, prev_pts, None)\n",
    "\n",
    "        idx = np.where(status == 1)[0]\n",
    "        prev_pts = prev_pts[idx]\n",
    "        curr_pts = curr_pts[idx]\n",
    "\n",
    "        m, _ = cv2.estimateAffinePartial2D(prev_pts, curr_pts)\n",
    "        if m is None:\n",
    "            m = np.eye(2, 3)\n",
    "\n",
    "        stabilized = cv2.warpAffine(curr, m, (curr.shape[1], curr.shape[0]))\n",
    "        stabilized_frames.append(stabilized)\n",
    "        prev_gray = curr_gray.copy()\n",
    "\n",
    "    cap.release()\n",
    "    return stabilized_frames\n",
    "\n"
   ]
  },
  {
   "cell_type": "code",
   "execution_count": 3,
   "id": "fe74b9df",
   "metadata": {},
   "outputs": [],
   "source": [
    "# ========== STEP 2: Detect Motion Region ==========\n",
    "def detect_motion_roi(frames, min_area=500):\n",
    "    motion_accum = None\n",
    "\n",
    "    for i in range(1, len(frames)):\n",
    "        gray1 = cv2.cvtColor(frames[i - 1], cv2.COLOR_BGR2GRAY)\n",
    "        gray2 = cv2.cvtColor(frames[i], cv2.COLOR_BGR2GRAY)\n",
    "        diff = cv2.absdiff(gray1, gray2)\n",
    "        _, thresh = cv2.threshold(diff, 15, 255, cv2.THRESH_BINARY)\n",
    "\n",
    "        if motion_accum is None:\n",
    "            motion_accum = thresh\n",
    "        else:\n",
    "            motion_accum = cv2.bitwise_or(motion_accum, thresh)\n",
    "\n",
    "    contours, _ = cv2.findContours(motion_accum, cv2.RETR_EXTERNAL, cv2.CHAIN_APPROX_SIMPLE)\n",
    "\n",
    "    largest_box = None\n",
    "    max_area = 0\n",
    "    for cnt in contours:\n",
    "        x, y, w, h = cv2.boundingRect(cnt)\n",
    "        area = w * h\n",
    "        if area > max_area and area > min_area:\n",
    "            largest_box = (x, y, w, h)\n",
    "            max_area = area\n",
    "\n",
    "    return largest_box\n",
    "\n"
   ]
  },
  {
   "cell_type": "code",
   "execution_count": 4,
   "id": "196e77b4",
   "metadata": {},
   "outputs": [],
   "source": [
    "# ========== STEP 3: Save Preprocessed Frames ==========\n",
    "def save_preprocessed_frames(frames, roi_box, output_dir, equalize_hist=True):\n",
    "    os.makedirs(output_dir, exist_ok=True)\n",
    "    for i, frame in enumerate(frames):\n",
    "        gray = cv2.cvtColor(frame, cv2.COLOR_BGR2GRAY)\n",
    "        if roi_box:\n",
    "            x, y, w, h = roi_box\n",
    "            gray = gray[y:y + h, x:x + w]\n",
    "        if equalize_hist:\n",
    "            gray = cv2.equalizeHist(gray)\n",
    "        cv2.imwrite(os.path.join(output_dir, f\"frame_{i:04d}.png\"), gray)\n",
    "\n"
   ]
  },
  {
   "cell_type": "code",
   "execution_count": 5,
   "id": "3c08841e",
   "metadata": {},
   "outputs": [],
   "source": [
    "# ========== MAIN FUNCTION ==========\n",
    "def preprocess_video_pipeline(video_path, output_dir):\n",
    "    print(\"Stabilizing video...\")\n",
    "    frames = stabilize_video(video_path)\n",
    "\n",
    "    print(\"Detecting vibrating region...\")\n",
    "    roi = detect_motion_roi(frames)\n",
    "\n",
    "    print(\"Saving preprocessed frames...\")\n",
    "    save_preprocessed_frames(frames, roi, output_dir)\n",
    "\n",
    "    print(\"✅ Done! Frames saved in:\", output_dir)\n",
    "\n",
    "\n"
   ]
  },
  {
   "cell_type": "code",
   "execution_count": null,
   "id": "20181161",
   "metadata": {},
   "outputs": [],
   "source": [
    "# ========== RUN IT ==========\n",
    "if __name__ == \"__main__\":\n",
    "    input_video = \"input_data/Unbalanced_weight/front.mp4\"\n",
    "    output_folder = \"preprocessed/unbalanced_weight_front\"\n",
    "    preprocess_video_pipeline(input_video, output_folder)"
   ]
  }
 ],
 "metadata": {
  "kernelspec": {
   "display_name": "Python 3",
   "language": "python",
   "name": "python3"
  },
  "language_info": {
   "codemirror_mode": {
    "name": "ipython",
    "version": 3
   },
   "file_extension": ".py",
   "mimetype": "text/x-python",
   "name": "python",
   "nbconvert_exporter": "python",
   "pygments_lexer": "ipython3",
   "version": "3.11.7"
  }
 },
 "nbformat": 4,
 "nbformat_minor": 5
}
