{
 "cells": [
  {
   "cell_type": "code",
   "execution_count": null,
   "id": "ebdab026",
   "metadata": {},
   "outputs": [],
   "source": [
    "import cv2\n",
    "import os"
   ]
  },
  {
   "cell_type": "code",
   "execution_count": null,
   "id": "3c08841e",
   "metadata": {},
   "outputs": [],
   "source": [
    "def preprocess_video(video_path, output_dir, crop_box=None, equalize_hist=False):\n",
    "    \"\"\"\n",
    "    Args:\n",
    "        video_path (str): Path to input video.\n",
    "        output_dir (str): Directory to save preprocessed frames.\n",
    "        crop_box (tuple or None): (x, y, w, h) crop region. If None, no cropping.\n",
    "        equalize_hist (bool): Apply histogram equalization to grayscale frames.\n",
    "    \"\"\"\n",
    "    os.makedirs(output_dir, exist_ok=True)\n",
    "\n",
    "    cap = cv2.VideoCapture(video_path)\n",
    "    frame_idx = 0\n",
    "\n",
    "    while True:\n",
    "        ret, frame = cap.read()\n",
    "        if not ret:\n",
    "            break\n",
    "\n",
    "        # Convert to grayscale\n",
    "        gray = cv2.cvtColor(frame, cv2.COLOR_BGR2GRAY)\n",
    "\n",
    "        # Crop if crop_box is given\n",
    "        if crop_box:\n",
    "            x, y, w, h = crop_box\n",
    "            gray = gray[y:y+h, x:x+w]\n",
    "\n",
    "        # Histogram Equalization\n",
    "        if equalize_hist:\n",
    "            gray = cv2.equalizeHist(gray)\n",
    "\n",
    "        # Save preprocessed frame\n",
    "        output_path = os.path.join(output_dir, f\"frame_{frame_idx:04d}.png\")\n",
    "        cv2.imwrite(output_path, gray)\n",
    "        frame_idx += 1\n",
    "\n",
    "    cap.release()\n",
    "    print(f\"Saved {frame_idx} preprocessed frames to: {output_dir}\")"
   ]
  }
 ],
 "metadata": {
  "language_info": {
   "name": "python"
  }
 },
 "nbformat": 4,
 "nbformat_minor": 5
}
