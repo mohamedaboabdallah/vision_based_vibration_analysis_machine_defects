{
 "cells": [
  {
   "cell_type": "code",
   "execution_count": null,
   "id": "ebdab026",
   "metadata": {},
   "outputs": [],
   "source": [
    "import cv2\n",
    "import os\n",
    "import numpy as np\n",
    "import matplotlib.pyplot as plt"
   ]
  },
  {
   "cell_type": "code",
   "execution_count": null,
   "id": "2333be5d",
   "metadata": {},
   "outputs": [],
   "source": [
    "def stabilize_video(frames):\n",
    "    stabilized = []\n",
    "    prev_gray = cv2.cvtColor(frames[0], cv2.COLOR_BGR2GRAY)\n",
    "    transforms = []\n",
    "\n",
    "    for i in range(1, len(frames)):\n",
    "        curr_gray = cv2.cvtColor(frames[i], cv2.COLOR_BGR2GRAY)\n",
    "        flow = cv2.calcOpticalFlowFarneback(prev_gray, curr_gray,\n",
    "                                            None, 0.5, 3, 15, 3, 5, 1.2, 0)\n",
    "        dx = np.mean(flow[..., 0])\n",
    "        dy = np.mean(flow[..., 1])\n",
    "        transforms.append((dx, dy))\n",
    "        prev_gray = curr_gray\n",
    "\n",
    "    cumulative_dx, cumulative_dy = 0, 0\n",
    "    for i, frame in enumerate(frames):\n",
    "        if i == 0:\n",
    "            stabilized.append(frame)\n",
    "            continue\n",
    "        cumulative_dx += transforms[i - 1][0]\n",
    "        cumulative_dy += transforms[i - 1][1]\n",
    "\n",
    "        trans_mat = np.float32([[1, 0, -cumulative_dx],\n",
    "                                [0, 1, -cumulative_dy]])\n",
    "        stabilized_frame = cv2.warpAffine(frame, trans_mat, (frame.shape[1], frame.shape[0]))\n",
    "        stabilized.append(stabilized_frame)\n",
    "\n",
    "    return stabilized\n"
   ]
  },
  {
   "cell_type": "code",
   "execution_count": null,
   "id": "fe74b9df",
   "metadata": {},
   "outputs": [],
   "source": [
    "def detect_motion_roi(frames, threshold=15, min_area=500):\n",
    "    motion_accum = None\n",
    "    for i in range(1, len(frames)):\n",
    "        gray1 = cv2.cvtColor(frames[i - 1], cv2.COLOR_BGR2GRAY)\n",
    "        gray2 = cv2.cvtColor(frames[i], cv2.COLOR_BGR2GRAY)\n",
    "        diff = cv2.absdiff(gray1, gray2)\n",
    "        _, thresh = cv2.threshold(diff, threshold, 255, cv2.THRESH_BINARY)\n",
    "        motion_accum = thresh if motion_accum is None else cv2.bitwise_or(motion_accum, thresh)\n",
    "\n",
    "    contours, _ = cv2.findContours(motion_accum, cv2.RETR_EXTERNAL, cv2.CHAIN_APPROX_SIMPLE)\n",
    "    if not contours:\n",
    "        return None\n",
    "\n",
    "    x_min, y_min, x_max, y_max = float('inf'), float('inf'), 0, 0\n",
    "    for c in contours:\n",
    "        if cv2.contourArea(c) < min_area:\n",
    "            continue\n",
    "        x, y, w, h = cv2.boundingRect(c)\n",
    "        x_min = min(x_min, x)\n",
    "        y_min = min(y_min, y)\n",
    "        x_max = max(x_max, x + w)\n",
    "        y_max = max(y_max, y + h)\n",
    "\n",
    "    return (x_min, y_min, x_max - x_min, y_max - y_min)\n"
   ]
  },
  {
   "cell_type": "code",
   "execution_count": null,
   "id": "f207680d",
   "metadata": {},
   "outputs": [],
   "source": [
    "\n",
    "def preview_roi(frames, roi_box, num_samples=5):\n",
    "    if not roi_box:\n",
    "        print(\"No ROI detected.\")\n",
    "        return\n",
    "\n",
    "    x, y, w, h = roi_box\n",
    "    step = max(1, len(frames) // num_samples)\n",
    "    for i in range(0, len(frames), step):\n",
    "        frame = frames[i].copy()\n",
    "        cv2.rectangle(frame, (x, y), (x + w, y + h), (0, 255, 0), 3)\n",
    "        plt.imshow(cv2.cvtColor(frame, cv2.COLOR_BGR2RGB))\n",
    "        plt.title(f\"Frame {i} with ROI\")\n",
    "        plt.axis('off')\n",
    "        plt.show()\n",
    "        if i + step >= len(frames):\n",
    "            break\n"
   ]
  },
  {
   "cell_type": "code",
   "execution_count": null,
   "id": "196e77b4",
   "metadata": {},
   "outputs": [],
   "source": [
    "\n",
    "def save_preprocessed_frames(frames, roi_box, output_dir, equalize_hist=True):\n",
    "    os.makedirs(output_dir, exist_ok=True)\n",
    "    x, y, w, h = roi_box\n",
    "    for idx, frame in enumerate(frames):\n",
    "        gray = cv2.cvtColor(frame, cv2.COLOR_BGR2GRAY)\n",
    "        if equalize_hist:\n",
    "            gray = cv2.equalizeHist(gray)\n",
    "        cropped = gray[y:y+h, x:x+w]\n",
    "        cv2.imwrite(os.path.join(output_dir, f\"frame_{idx:04d}.png\"), cropped)\n"
   ]
  },
  {
   "cell_type": "code",
   "execution_count": null,
   "id": "3c08841e",
   "metadata": {},
   "outputs": [],
   "source": [
    "def preprocess_video(video_path, output_dir):\n",
    "    cap = cv2.VideoCapture(video_path)\n",
    "    frames = []\n",
    "\n",
    "    while True:\n",
    "        ret, frame = cap.read()\n",
    "        if not ret:\n",
    "            break\n",
    "        frames.append(frame)\n",
    "    cap.release()\n",
    "\n",
    "    print(f\"[INFO] Loaded {len(frames)} frames.\")\n",
    "\n",
    "    stabilized_frames = stabilize_video(frames)\n",
    "    print(\"[INFO] Video stabilized.\")\n",
    "\n",
    "    roi = detect_motion_roi(stabilized_frames)\n",
    "    if roi:\n",
    "        print(f\"[INFO] Detected ROI: {roi}\")\n",
    "    else:\n",
    "        print(\"[WARNING] No motion ROI detected!\")\n",
    "        return\n",
    "\n",
    "    preview_roi(stabilized_frames, roi)\n",
    "    save_preprocessed_frames(stabilized_frames, roi, output_dir)\n",
    "    print(f\"[INFO] Preprocessed frames saved to {output_dir}\")\n"
   ]
  },
  {
   "cell_type": "code",
   "execution_count": null,
   "id": "20181161",
   "metadata": {},
   "outputs": [
    {
     "name": "stdout",
     "output_type": "stream",
     "text": [
      "Stabilizing video...\n",
      "Detecting vibrating region...\n",
      "Saving preprocessed frames...\n",
      "✅ Done! Frames saved in: preprocessed_data/Unbalance_weight/front\n"
     ]
    }
   ],
   "source": [
    "# Example usage\n",
    "print(\"Unbalanced Weight-front:\")\n",
    "video_path = \"input_data/Unbalance_weight/front.avi\"\n",
    "output_dir = \"preprocessed_data/Unbalance_weight/front\"\n",
    "preprocess_video(video_path, output_dir)\n",
    "#--------------------------------------------------\n",
    "print(\"Unbalanced Weight-angle:\")\n",
    "video_path = \"input_data/Unbalance_weight/angle.avi\"\n",
    "output_dir = \"preprocessed_data/Unbalance_weight/angle\"\n",
    "preprocess_video(video_path, output_dir)\n",
    "#--------------------------------------------------\n",
    "print(\"Bearing fault-front:\")\n",
    "video_path = \"input_data/Bearing_fault/front.avi\"\n",
    "output_dir = \"preprocessed_data/Bearing_fault/front\"\n",
    "preprocess_video(video_path, output_dir)\n",
    "#--------------------------------------------------\n",
    "print(\"Bearing fault-angle:\")\n",
    "video_path = \"input_data/Bearing_fault/angle.avi\"\n",
    "output_dir = \"preprocessed_data/Bearing_fault/angle\"\n",
    "preprocess_video(video_path, output_dir)\n",
    "#--------------------------------------------------\n",
    "print(\"Normal state-front:\")\n",
    "video_path = \"input_data/Normal_state/front.avi\"\n",
    "output_dir = \"preprocessed_data/Normal_state/front\"\n",
    "preprocess_video(video_path, output_dir)\n",
    "#--------------------------------------------------\n",
    "print(\"Normal state-angle:\")\n",
    "video_path = \"input_data/Normal_state/angle.avi\"\n",
    "output_dir = \"preprocessed_data/Normal_state/angle\"\n",
    "preprocess_video(video_path, output_dir)\n"
   ]
  }
 ],
 "metadata": {
  "kernelspec": {
   "display_name": "Python 3",
   "language": "python",
   "name": "python3"
  },
  "language_info": {
   "codemirror_mode": {
    "name": "ipython",
    "version": 3
   },
   "file_extension": ".py",
   "mimetype": "text/x-python",
   "name": "python",
   "nbconvert_exporter": "python",
   "pygments_lexer": "ipython3",
   "version": "3.11.7"
  }
 },
 "nbformat": 4,
 "nbformat_minor": 5
}
