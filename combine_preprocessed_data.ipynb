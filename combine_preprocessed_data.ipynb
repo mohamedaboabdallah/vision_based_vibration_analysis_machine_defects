{
 "cells": [
  {
   "cell_type": "code",
   "execution_count": null,
   "id": "ced6d77e",
   "metadata": {},
   "outputs": [],
   "source": [
    "import os\n",
    "import cv2\n",
    "import numpy as np"
   ]
  },
  {
   "cell_type": "code",
   "execution_count": null,
   "id": "338c6d3d",
   "metadata": {},
   "outputs": [],
   "source": [
    "def load_frames_from_folder(folder_path):\n",
    "    frames = []\n",
    "    frame_files = sorted(os.listdir(folder_path))  # Sort files to read in correct order\n",
    "    for frame_file in frame_files:\n",
    "        if frame_file.endswith(\".jpg\") or frame_file.endswith(\".png\"):\n",
    "            frame = cv2.imread(os.path.join(folder_path, frame_file))\n",
    "            frames.append(frame)\n",
    "    return frames"
   ]
  },
  {
   "cell_type": "code",
   "execution_count": null,
   "id": "ed70e686",
   "metadata": {},
   "outputs": [],
   "source": [
    "def duplicate_frames(video_frames, target_num_frames):\n",
    "    num_frames = len(video_frames)\n",
    "    if num_frames < target_num_frames:\n",
    "        # Add more frames by duplicating the last frame\n",
    "        while len(video_frames) < target_num_frames:\n",
    "            video_frames.append(video_frames[-1])\n",
    "    return video_frames"
   ]
  },
  {
   "cell_type": "code",
   "execution_count": null,
   "id": "d876130b",
   "metadata": {},
   "outputs": [],
   "source": [
    "def interpolate_frames(video_frames, target_num_frames):\n",
    "    num_frames = len(video_frames)\n",
    "    if num_frames >= target_num_frames:\n",
    "        return video_frames\n",
    "    \n",
    "    interpolated_frames = []\n",
    "    for i in range(num_frames - 1):\n",
    "        start_frame = video_frames[i]\n",
    "        end_frame = video_frames[i + 1]\n",
    "        interpolated_frames.append(start_frame)\n",
    "        # Generate interpolated frames\n",
    "        for j in range(1, target_num_frames // num_frames):\n",
    "            alpha = j / (target_num_frames // num_frames)\n",
    "            interpolated_frame = cv2.addWeighted(start_frame, 1 - alpha, end_frame, alpha, 0)\n",
    "            interpolated_frames.append(interpolated_frame)\n",
    "    interpolated_frames.append(video_frames[-1])\n",
    "    return interpolated_frames"
   ]
  },
  {
   "cell_type": "code",
   "execution_count": null,
   "id": "d261e02d",
   "metadata": {},
   "outputs": [],
   "source": [
    "folders = [\"preprocessed_data/Unbalance_weight/front\", \"preprocessed_data/Unbalance_weight/angle\", \"preprocessed_data/Bearing_fault/front\", \"preprocessed_data/Bearing_fault/angle\", \"preprocessed_data/Normal_state/front\", \"preprocessed_data/Normal_state/angle\"]\n",
    "all_frames = []\n",
    "\n",
    "for folder in folders:\n",
    "    frames = load_frames_from_folder(folder)\n",
    "    all_frames.append(frames)\n",
    "\n",
    "# Find the maximum number of frames among all videos\n",
    "max_frames = max(len(video_frames) for video_frames in all_frames)\n",
    "print(f\"Max number of frames: {max_frames}\")\n",
    "\n",
    "# Apply frame duplication or interpolation to match the max number of frames\n",
    "all_resized_frames = [duplicate_frames(video_frames, max_frames) for video_frames in all_frames]\n",
    "# Alternatively, you can use interpolation if you want smoother transitions:\n",
    "# all_resized_frames = [interpolate_frames(video_frames, max_frames) for video_frames in all_frames]\n",
    "\n",
    "# Assuming the frames are resized and you want to save them to separate videos\n",
    "fps = 30  # Choose a common FPS (e.g., 30 FPS)\n",
    "frame_height, frame_width = all_resized_frames[0][0].shape[:2]  # Assuming all frames are the same size\n",
    "\n",
    "# List to store the VideoWriter objects for each video\n",
    "video_writers = []\n",
    "\n",
    "# Create a VideoWriter object for each folder/video\n",
    "output_paths = ['merged_preprocessed_videos/Unbalanced_weight/front.mp4', 'merged_preprocessed_videos/Unbalanced_weight/angle.mp4', 'merged_preprocessed_videos/Bearing_fault/front.mp4', \n",
    "                'merged_preprocessed_videos/Bearing_fault/angle.mp4', 'merged_preprocessed_videos/Normal_state/front.mp4', 'merged_preprocessed_videos/Normal_state/angle.mp4']\n",
    "\n",
    "for path in output_paths:\n",
    "    fourcc = cv2.VideoWriter_fourcc(*'mp4v')  # Video format\n",
    "    video_writer = cv2.VideoWriter(path, fourcc, fps, (frame_width, frame_height))\n",
    "    video_writers.append(video_writer)\n",
    "\n",
    "# Write frames to each corresponding video\n",
    "for i, video_frames in enumerate(all_resized_frames):\n",
    "    for frame in video_frames:\n",
    "        # Write each frame of the corresponding video to its VideoWriter\n",
    "        frame_bgr = cv2.cvtColor(frame, cv2.COLOR_RGB2BGR)\n",
    "        video_writers[i].write(frame_bgr)\n",
    "\n",
    "# Release all VideoWriter objects\n",
    "for writer in video_writers:\n",
    "    writer.release()\n",
    "\n",
    "print(\"Videos saved for each condition.\")"
   ]
  }
 ],
 "metadata": {
  "language_info": {
   "name": "python"
  }
 },
 "nbformat": 4,
 "nbformat_minor": 5
}
