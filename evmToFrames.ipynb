{
 "cells": [
  {
   "cell_type": "code",
   "execution_count": 1,
   "id": "31192bc6",
   "metadata": {},
   "outputs": [
    {
     "name": "stdout",
     "output_type": "stream",
     "text": [
      "[Bearing_fault/front] Extracted 2819 frames.\n",
      "[Bearing_fault/angle] Extracted 2819 frames.\n",
      "[Normal_state/front] Extracted 2819 frames.\n",
      "[Normal_state/angle] Extracted 2819 frames.\n",
      "[Unbalance_weight/front] Extracted 2819 frames.\n",
      "[Unbalance_weight/angle] Extracted 2819 frames.\n",
      "✅ Frame extraction complete.\n"
     ]
    }
   ],
   "source": [
    "import os\n",
    "import cv2\n",
    "# Source folder containing your class folders\n",
    "source_root = './evm_videos'  # e.g., './vibration_videos'\n",
    "output_root = 'dataset'  # output folder where extracted frames will go\n",
    "# Frame extraction settings\n",
    "frame_interval = 1  # extract every frame, change to 2 or more to skip frames\n",
    "# Loop through each class (e.g., Bearing_fault)\n",
    "for label_folder in os.listdir(source_root):\n",
    "    label_path = os.path.join(source_root, label_folder)\n",
    "    if not os.path.isdir(label_path):\n",
    "        continue\n",
    "\n",
    "    for view in ['front_evm.avi', 'angle_evm.avi']:\n",
    "        view_name = 'front' if 'front' in view else 'angle'\n",
    "        video_path = os.path.join(label_path, view)\n",
    "\n",
    "        # Output path for this class and view\n",
    "        output_path = os.path.join(output_root, label_folder, view_name)\n",
    "        os.makedirs(output_path, exist_ok=True)\n",
    "\n",
    "        # Open video\n",
    "        cap = cv2.VideoCapture(video_path)\n",
    "        frame_idx = 0\n",
    "        saved_idx = 0\n",
    "\n",
    "        while cap.isOpened():\n",
    "            ret, frame = cap.read()\n",
    "            if not ret:\n",
    "                break\n",
    "\n",
    "            if frame_idx % frame_interval == 0:\n",
    "                filename = f\"frame_{saved_idx:05d}.jpg\"\n",
    "                cv2.imwrite(os.path.join(output_path, filename), frame)\n",
    "                saved_idx += 1\n",
    "\n",
    "            frame_idx += 1\n",
    "\n",
    "        cap.release()\n",
    "        print(f\"[{label_folder}/{view_name}] Extracted {saved_idx} frames.\")\n",
    "\n",
    "print(\"✅ Frame extraction complete.\")\n"
   ]
  },
  {
   "cell_type": "code",
   "execution_count": null,
   "id": "24ce864e",
   "metadata": {},
   "outputs": [],
   "source": [
    "import os\n",
    "import shutil\n",
    "\n",
    "source_root = \"dataset\"\n",
    "target_root = \"cnn_data\"\n",
    "os.makedirs(target_root, exist_ok=True)\n",
    "\n",
    "for fault_type in os.listdir(source_root):\n",
    "    fault_path = os.path.join(source_root, fault_type)\n",
    "    target_class_dir = os.path.join(target_root, fault_type)\n",
    "    os.makedirs(target_class_dir, exist_ok=True)\n",
    "\n",
    "    for view in ['front', 'angle']:\n",
    "        view_dir = os.path.join(fault_path, view)\n",
    "        for frame_file in os.listdir(view_dir):\n",
    "            src = os.path.join(view_dir, frame_file)\n",
    "            dst = os.path.join(target_class_dir, f\"{view}_{frame_file}\")\n",
    "            shutil.copyfile(src, dst)\n",
    "\n",
    "print(\"✅ Merged front and angle frames.\")\n"
   ]
  }
 ],
 "metadata": {
  "kernelspec": {
   "display_name": "Python 3",
   "language": "python",
   "name": "python3"
  },
  "language_info": {
   "codemirror_mode": {
    "name": "ipython",
    "version": 3
   },
   "file_extension": ".py",
   "mimetype": "text/x-python",
   "name": "python",
   "nbconvert_exporter": "python",
   "pygments_lexer": "ipython3",
   "version": "3.11.7"
  }
 },
 "nbformat": 4,
 "nbformat_minor": 5
}
