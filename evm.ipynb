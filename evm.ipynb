{
 "cells": [
  {
   "cell_type": "code",
   "execution_count": 38,
   "id": "e57b744b",
   "metadata": {},
   "outputs": [],
   "source": [
    "import cv2\n",
    "import numpy as np\n",
    "from scipy.fftpack import fft, ifft, fftfreq\n",
    "import os"
   ]
  },
  {
   "cell_type": "code",
   "execution_count": 39,
   "id": "f2739c9c",
   "metadata": {},
   "outputs": [],
   "source": [
    "def build_laplacian_pyramid(frame, levels):\n",
    "    pyramid = [frame.astype(np.float32)]\n",
    "    for _ in range(levels):\n",
    "        frame = cv2.pyrDown(frame)\n",
    "        pyramid.append(frame.astype(np.float32))\n",
    "    return pyramid"
   ]
  },
  {
   "cell_type": "code",
   "execution_count": 40,
   "id": "149fd783",
   "metadata": {},
   "outputs": [],
   "source": [
    "def reconstruct_from_laplacian_pyramid(pyramid):\n",
    "    frame = pyramid[-1]\n",
    "    for level in reversed(pyramid[:-1]):\n",
    "        frame = cv2.pyrUp(frame, dstsize=(level.shape[1], level.shape[0]))\n",
    "        frame = cv2.add(frame, level)\n",
    "    return np.clip(frame, 0, 255).astype(np.uint8)"
   ]
  },
  {
   "cell_type": "code",
   "execution_count": 41,
   "id": "1f4d1d33",
   "metadata": {},
   "outputs": [],
   "source": [
    "def temporal_bandpass_filter(frames, freq_min, freq_max, fps):\n",
    "    fft_result = fft(frames, axis=0)\n",
    "    frequencies = fftfreq(frames.shape[0], d=1.0/fps)\n",
    "    mask = (np.abs(frequencies) >= freq_min) & (np.abs(frequencies) <= freq_max)\n",
    "    fft_result[~mask] = 0\n",
    "    filtered = np.real(ifft(fft_result, axis=0))\n",
    "    return filtered"
   ]
  },
  {
   "cell_type": "code",
   "execution_count": 42,
   "id": "0f8978a7",
   "metadata": {},
   "outputs": [],
   "source": [
    "def evm(video_path, output_path, freq_min=0.5, freq_max=1.0, amplification=20, levels=3, fps=30):\n",
    "    cap = cv2.VideoCapture(video_path)\n",
    "    frame_count = int(cap.get(cv2.CAP_PROP_FRAME_COUNT))\n",
    "    width  = int(cap.get(cv2.CAP_PROP_FRAME_WIDTH))\n",
    "    height = int(cap.get(cv2.CAP_PROP_FRAME_HEIGHT))\n",
    "    fps_in = cap.get(cv2.CAP_PROP_FPS)\n",
    "    \n",
    "    if fps is None:\n",
    "        fps = fps_in\n",
    "\n",
    "    print(f\"Input FPS: {fps_in}, Using FPS: {fps}\")\n",
    "    print(f\"Frames: {frame_count}, Resolution: {width}x{height}\")\n",
    "\n",
    "    # Step 1: Load frames and build pyramids\n",
    "    pyramids = []\n",
    "    for _ in range(frame_count):\n",
    "        ret, frame = cap.read()\n",
    "        if not ret:\n",
    "            break\n",
    "        frame = cv2.cvtColor(frame, cv2.COLOR_BGR2RGB)\n",
    "        pyramid = build_laplacian_pyramid(frame, levels)\n",
    "        pyramids.append(pyramid)\n",
    "    cap.release()\n",
    "\n",
    "    # Step 2: Convert pyramid level to array\n",
    "    level_frames = np.array([pyramids[i][levels] for i in range(len(pyramids))])\n",
    "    \n",
    "    # Step 3: Temporal filtering\n",
    "    filtered = temporal_bandpass_filter(level_frames, freq_min, freq_max, fps)\n",
    "    amplified = filtered * amplification\n",
    "\n",
    "    # Step 4: Add back to pyramid and reconstruct\n",
    "    out_frames = []\n",
    "    for i in range(len(pyramids)):\n",
    "        lap_pyr = pyramids[i]\n",
    "        lap_pyr[levels] += amplified[i]\n",
    "        recon = reconstruct_from_laplacian_pyramid(lap_pyr)\n",
    "        out_frames.append(recon)\n",
    "\n",
    "    # Step 5: Save output video\n",
    "    fourcc = cv2.VideoWriter_fourcc(*'mp4v')\n",
    "    out = cv2.VideoWriter(output_path, fourcc, fps, (width, height))\n",
    "    for frame in out_frames:\n",
    "        bgr = cv2.cvtColor(frame, cv2.COLOR_RGB2BGR)\n",
    "        out.write(bgr)\n",
    "    out.release()\n",
    "    print(f\"EVM video saved to {output_path}\")"
   ]
  },
  {
   "cell_type": "code",
   "execution_count": 43,
   "id": "2c0f4617",
   "metadata": {},
   "outputs": [
    {
     "name": "stdout",
     "output_type": "stream",
     "text": [
      "Input FPS: 30.0, Using FPS: 30\n",
      "Frames: 2819, Resolution: 324x132\n",
      "EVM video saved to evm_videos/Unbalance_weight/front_evm.avi\n",
      "Input FPS: 30.0, Using FPS: 30\n",
      "Frames: 0, Resolution: 324x132\n"
     ]
    },
    {
     "ename": "ValueError",
     "evalue": "invalid number of data points (0) specified",
     "output_type": "error",
     "traceback": [
      "\u001b[1;31m---------------------------------------------------------------------------\u001b[0m",
      "\u001b[1;31mValueError\u001b[0m                                Traceback (most recent call last)",
      "Cell \u001b[1;32mIn[43], line 10\u001b[0m\n\u001b[0;32m      1\u001b[0m evm(\n\u001b[0;32m      2\u001b[0m     video_path\u001b[38;5;241m=\u001b[39m\u001b[38;5;124m'\u001b[39m\u001b[38;5;124mmerged_preprocessed_videos/Unbalance_weight/front.avi\u001b[39m\u001b[38;5;124m'\u001b[39m,\n\u001b[0;32m      3\u001b[0m     output_path\u001b[38;5;241m=\u001b[39m\u001b[38;5;124m'\u001b[39m\u001b[38;5;124mevm_videos/Unbalance_weight/front_evm.avi\u001b[39m\u001b[38;5;124m'\u001b[39m,\n\u001b[1;32m   (...)\u001b[0m\n\u001b[0;32m      8\u001b[0m     fps\u001b[38;5;241m=\u001b[39m\u001b[38;5;241m30\u001b[39m  \u001b[38;5;66;03m# match this to your synced video FPS\u001b[39;00m\n\u001b[0;32m      9\u001b[0m )\n\u001b[1;32m---> 10\u001b[0m \u001b[43mevm\u001b[49m\u001b[43m(\u001b[49m\n\u001b[0;32m     11\u001b[0m \u001b[43m    \u001b[49m\u001b[43mvideo_path\u001b[49m\u001b[38;5;241;43m=\u001b[39;49m\u001b[38;5;124;43m'\u001b[39;49m\u001b[38;5;124;43mmerged_preprocessed_videos/Unbalance_weight/angle.avi\u001b[39;49m\u001b[38;5;124;43m'\u001b[39;49m\u001b[43m,\u001b[49m\u001b[43m \u001b[49m\n\u001b[0;32m     12\u001b[0m \u001b[43m    \u001b[49m\u001b[43moutput_path\u001b[49m\u001b[38;5;241;43m=\u001b[39;49m\u001b[38;5;124;43m'\u001b[39;49m\u001b[38;5;124;43mevm_videos/Unbalance_weight/angle_evm.avi\u001b[39;49m\u001b[38;5;124;43m'\u001b[39;49m\u001b[43m,\u001b[49m\n\u001b[0;32m     13\u001b[0m \n\u001b[0;32m     14\u001b[0m \u001b[43m    \u001b[49m\u001b[43mfreq_min\u001b[49m\u001b[38;5;241;43m=\u001b[39;49m\u001b[38;5;241;43m0.5\u001b[39;49m\u001b[43m,\u001b[49m\n\u001b[0;32m     15\u001b[0m \u001b[43m    \u001b[49m\u001b[43mfreq_max\u001b[49m\u001b[38;5;241;43m=\u001b[39;49m\u001b[38;5;241;43m1.0\u001b[39;49m\u001b[43m,\u001b[49m\n\u001b[0;32m     16\u001b[0m \u001b[43m    \u001b[49m\u001b[43mamplification\u001b[49m\u001b[38;5;241;43m=\u001b[39;49m\u001b[38;5;241;43m30\u001b[39;49m\u001b[43m,\u001b[49m\n\u001b[0;32m     17\u001b[0m \u001b[43m    \u001b[49m\u001b[43mlevels\u001b[49m\u001b[38;5;241;43m=\u001b[39;49m\u001b[38;5;241;43m3\u001b[39;49m\u001b[43m,\u001b[49m\n\u001b[0;32m     18\u001b[0m \u001b[43m    \u001b[49m\u001b[43mfps\u001b[49m\u001b[38;5;241;43m=\u001b[39;49m\u001b[38;5;241;43m30\u001b[39;49m\u001b[43m  \u001b[49m\u001b[38;5;66;43;03m# match this to your synced video FPS\u001b[39;49;00m\n\u001b[0;32m     19\u001b[0m \u001b[43m)\u001b[49m\n\u001b[0;32m     20\u001b[0m evm(\n\u001b[0;32m     21\u001b[0m     video_path\u001b[38;5;241m=\u001b[39m\u001b[38;5;124m'\u001b[39m\u001b[38;5;124mmerged_preprocessed_videos/Bearing_fault/front.avi\u001b[39m\u001b[38;5;124m'\u001b[39m, \n\u001b[0;32m     22\u001b[0m     output_path\u001b[38;5;241m=\u001b[39m\u001b[38;5;124m'\u001b[39m\u001b[38;5;124mevm_videos/Bearing_fault/front_evm.avi\u001b[39m\u001b[38;5;124m'\u001b[39m,\n\u001b[1;32m   (...)\u001b[0m\n\u001b[0;32m     27\u001b[0m     fps\u001b[38;5;241m=\u001b[39m\u001b[38;5;241m30\u001b[39m  \u001b[38;5;66;03m# match this to your synced video FPS\u001b[39;00m\n\u001b[0;32m     28\u001b[0m )\n\u001b[0;32m     29\u001b[0m evm(\n\u001b[0;32m     30\u001b[0m     video_path\u001b[38;5;241m=\u001b[39m\u001b[38;5;124m'\u001b[39m\u001b[38;5;124mmerged_preprocessed_videos/Bearing_fault/angle.avi\u001b[39m\u001b[38;5;124m'\u001b[39m, \n\u001b[0;32m     31\u001b[0m     output_path\u001b[38;5;241m=\u001b[39m\u001b[38;5;124m'\u001b[39m\u001b[38;5;124mevm_videos/Bearing_fault/angle_evm.avi\u001b[39m\u001b[38;5;124m'\u001b[39m,\n\u001b[1;32m   (...)\u001b[0m\n\u001b[0;32m     36\u001b[0m     fps\u001b[38;5;241m=\u001b[39m\u001b[38;5;241m30\u001b[39m  \u001b[38;5;66;03m# match this to your synced video FPS\u001b[39;00m\n\u001b[0;32m     37\u001b[0m )\n",
      "Cell \u001b[1;32mIn[42], line 29\u001b[0m, in \u001b[0;36mevm\u001b[1;34m(video_path, output_path, freq_min, freq_max, amplification, levels, fps)\u001b[0m\n\u001b[0;32m     26\u001b[0m level_frames \u001b[38;5;241m=\u001b[39m np\u001b[38;5;241m.\u001b[39marray([pyramids[i][levels] \u001b[38;5;28;01mfor\u001b[39;00m i \u001b[38;5;129;01min\u001b[39;00m \u001b[38;5;28mrange\u001b[39m(\u001b[38;5;28mlen\u001b[39m(pyramids))])\n\u001b[0;32m     28\u001b[0m \u001b[38;5;66;03m# Step 3: Temporal filtering\u001b[39;00m\n\u001b[1;32m---> 29\u001b[0m filtered \u001b[38;5;241m=\u001b[39m \u001b[43mtemporal_bandpass_filter\u001b[49m\u001b[43m(\u001b[49m\u001b[43mlevel_frames\u001b[49m\u001b[43m,\u001b[49m\u001b[43m \u001b[49m\u001b[43mfreq_min\u001b[49m\u001b[43m,\u001b[49m\u001b[43m \u001b[49m\u001b[43mfreq_max\u001b[49m\u001b[43m,\u001b[49m\u001b[43m \u001b[49m\u001b[43mfps\u001b[49m\u001b[43m)\u001b[49m\n\u001b[0;32m     30\u001b[0m amplified \u001b[38;5;241m=\u001b[39m filtered \u001b[38;5;241m*\u001b[39m amplification\n\u001b[0;32m     32\u001b[0m \u001b[38;5;66;03m# Step 4: Add back to pyramid and reconstruct\u001b[39;00m\n",
      "Cell \u001b[1;32mIn[41], line 2\u001b[0m, in \u001b[0;36mtemporal_bandpass_filter\u001b[1;34m(frames, freq_min, freq_max, fps)\u001b[0m\n\u001b[0;32m      1\u001b[0m \u001b[38;5;28;01mdef\u001b[39;00m \u001b[38;5;21mtemporal_bandpass_filter\u001b[39m(frames, freq_min, freq_max, fps):\n\u001b[1;32m----> 2\u001b[0m     fft_result \u001b[38;5;241m=\u001b[39m \u001b[43mfft\u001b[49m\u001b[43m(\u001b[49m\u001b[43mframes\u001b[49m\u001b[43m,\u001b[49m\u001b[43m \u001b[49m\u001b[43maxis\u001b[49m\u001b[38;5;241;43m=\u001b[39;49m\u001b[38;5;241;43m0\u001b[39;49m\u001b[43m)\u001b[49m\n\u001b[0;32m      3\u001b[0m     frequencies \u001b[38;5;241m=\u001b[39m fftfreq(frames\u001b[38;5;241m.\u001b[39mshape[\u001b[38;5;241m0\u001b[39m], d\u001b[38;5;241m=\u001b[39m\u001b[38;5;241m1.0\u001b[39m\u001b[38;5;241m/\u001b[39mfps)\n\u001b[0;32m      4\u001b[0m     mask \u001b[38;5;241m=\u001b[39m (np\u001b[38;5;241m.\u001b[39mabs(frequencies) \u001b[38;5;241m>\u001b[39m\u001b[38;5;241m=\u001b[39m freq_min) \u001b[38;5;241m&\u001b[39m (np\u001b[38;5;241m.\u001b[39mabs(frequencies) \u001b[38;5;241m<\u001b[39m\u001b[38;5;241m=\u001b[39m freq_max)\n",
      "File \u001b[1;32mc:\\Users\\mohamed ahmed\\AppData\\Local\\Programs\\Python\\Python311\\Lib\\site-packages\\scipy\\fftpack\\_basic.py:88\u001b[0m, in \u001b[0;36mfft\u001b[1;34m(x, n, axis, overwrite_x)\u001b[0m\n\u001b[0;32m     12\u001b[0m \u001b[38;5;28;01mdef\u001b[39;00m \u001b[38;5;21mfft\u001b[39m(x, n\u001b[38;5;241m=\u001b[39m\u001b[38;5;28;01mNone\u001b[39;00m, axis\u001b[38;5;241m=\u001b[39m\u001b[38;5;241m-\u001b[39m\u001b[38;5;241m1\u001b[39m, overwrite_x\u001b[38;5;241m=\u001b[39m\u001b[38;5;28;01mFalse\u001b[39;00m):\n\u001b[0;32m     13\u001b[0m \u001b[38;5;250m    \u001b[39m\u001b[38;5;124;03m\"\"\"\u001b[39;00m\n\u001b[0;32m     14\u001b[0m \u001b[38;5;124;03m    Return discrete Fourier transform of real or complex sequence.\u001b[39;00m\n\u001b[0;32m     15\u001b[0m \n\u001b[1;32m   (...)\u001b[0m\n\u001b[0;32m     86\u001b[0m \n\u001b[0;32m     87\u001b[0m \u001b[38;5;124;03m    \"\"\"\u001b[39;00m\n\u001b[1;32m---> 88\u001b[0m     \u001b[38;5;28;01mreturn\u001b[39;00m \u001b[43m_pocketfft\u001b[49m\u001b[38;5;241;43m.\u001b[39;49m\u001b[43mfft\u001b[49m\u001b[43m(\u001b[49m\u001b[43mx\u001b[49m\u001b[43m,\u001b[49m\u001b[43m \u001b[49m\u001b[43mn\u001b[49m\u001b[43m,\u001b[49m\u001b[43m \u001b[49m\u001b[43maxis\u001b[49m\u001b[43m,\u001b[49m\u001b[43m \u001b[49m\u001b[38;5;28;43;01mNone\u001b[39;49;00m\u001b[43m,\u001b[49m\u001b[43m \u001b[49m\u001b[43moverwrite_x\u001b[49m\u001b[43m)\u001b[49m\n",
      "File \u001b[1;32mc:\\Users\\mohamed ahmed\\AppData\\Local\\Programs\\Python\\Python311\\Lib\\site-packages\\scipy\\fft\\_pocketfft\\basic.py:26\u001b[0m, in \u001b[0;36mc2c\u001b[1;34m(forward, x, n, axis, norm, overwrite_x, workers, plan)\u001b[0m\n\u001b[0;32m     24\u001b[0m     overwrite_x \u001b[38;5;241m=\u001b[39m overwrite_x \u001b[38;5;129;01mor\u001b[39;00m copied\n\u001b[0;32m     25\u001b[0m \u001b[38;5;28;01melif\u001b[39;00m tmp\u001b[38;5;241m.\u001b[39mshape[axis] \u001b[38;5;241m<\u001b[39m \u001b[38;5;241m1\u001b[39m:\n\u001b[1;32m---> 26\u001b[0m     \u001b[38;5;28;01mraise\u001b[39;00m \u001b[38;5;167;01mValueError\u001b[39;00m(\u001b[38;5;124m\"\u001b[39m\u001b[38;5;124minvalid number of data points (\u001b[39m\u001b[38;5;132;01m{}\u001b[39;00m\u001b[38;5;124m) specified\u001b[39m\u001b[38;5;124m\"\u001b[39m\n\u001b[0;32m     27\u001b[0m                      \u001b[38;5;241m.\u001b[39mformat(tmp\u001b[38;5;241m.\u001b[39mshape[axis]))\n\u001b[0;32m     29\u001b[0m out \u001b[38;5;241m=\u001b[39m (tmp \u001b[38;5;28;01mif\u001b[39;00m overwrite_x \u001b[38;5;129;01mand\u001b[39;00m tmp\u001b[38;5;241m.\u001b[39mdtype\u001b[38;5;241m.\u001b[39mkind \u001b[38;5;241m==\u001b[39m \u001b[38;5;124m'\u001b[39m\u001b[38;5;124mc\u001b[39m\u001b[38;5;124m'\u001b[39m \u001b[38;5;28;01melse\u001b[39;00m \u001b[38;5;28;01mNone\u001b[39;00m)\n\u001b[0;32m     31\u001b[0m \u001b[38;5;28;01mreturn\u001b[39;00m pfft\u001b[38;5;241m.\u001b[39mc2c(tmp, (axis,), forward, norm, out, workers)\n",
      "\u001b[1;31mValueError\u001b[0m: invalid number of data points (0) specified"
     ]
    }
   ],
   "source": [
    "evm(\n",
    "    video_path='merged_preprocessed_videos/Unbalance_weight/front.avi',\n",
    "    output_path='evm_videos/Unbalance_weight/front_evm.avi',\n",
    "    freq_min=0.5,\n",
    "    freq_max=1.0,\n",
    "    amplification=30,\n",
    "    levels=3,\n",
    "    fps=30  # match this to your synced video FPS\n",
    ")\n",
    "evm(\n",
    "    video_path='merged_preprocessed_videos/Unbalance_weight/angle.avi', \n",
    "    output_path='evm_videos/Unbalance_weight/angle_evm.avi',\n",
    "\n",
    "    freq_min=0.5,\n",
    "    freq_max=1.0,\n",
    "    amplification=30,\n",
    "    levels=3,\n",
    "    fps=30  # match this to your synced video FPS\n",
    ")\n",
    "evm(\n",
    "    video_path='merged_preprocessed_videos/Bearing_fault/front.avi', \n",
    "    output_path='evm_videos/Bearing_fault/front_evm.avi',\n",
    "    freq_min=0.5,\n",
    "    freq_max=1.0,\n",
    "    amplification=30,\n",
    "    levels=3,\n",
    "    fps=30  # match this to your synced video FPS\n",
    ")\n",
    "evm(\n",
    "    video_path='merged_preprocessed_videos/Bearing_fault/angle.avi', \n",
    "    output_path='evm_videos/Bearing_fault/angle_evm.avi',\n",
    "    freq_min=0.5,\n",
    "    freq_max=1.0,\n",
    "    amplification=30,\n",
    "    levels=3,\n",
    "    fps=30  # match this to your synced video FPS\n",
    ")\n",
    "evm(\n",
    "    video_path='merged_preprocessed_videos/Normal_state/front.avi', \n",
    "    output_path='evm_videos/Normal_state/front_evm.avi',\n",
    "    freq_min=0.5,\n",
    "    freq_max=1.0,\n",
    "    amplification=30,\n",
    "    levels=3,\n",
    "    fps=30  # match this to your synced video FPS\n",
    ")\n",
    "evm(\n",
    "    video_path='merged_preprocessed_videos/Normal_state/angle.avi',\n",
    "    output_path='evm_videos/Normal_state/angle_evm.avi',\n",
    "    freq_min=0.5,\n",
    "    freq_max=1.0,\n",
    "    amplification=30,\n",
    "    levels=3,\n",
    "    fps=30  # match this to your synced video FPS\n",
    ")"
   ]
  }
 ],
 "metadata": {
  "kernelspec": {
   "display_name": "Python 3",
   "language": "python",
   "name": "python3"
  },
  "language_info": {
   "codemirror_mode": {
    "name": "ipython",
    "version": 3
   },
   "file_extension": ".py",
   "mimetype": "text/x-python",
   "name": "python",
   "nbconvert_exporter": "python",
   "pygments_lexer": "ipython3",
   "version": "3.11.7"
  }
 },
 "nbformat": 4,
 "nbformat_minor": 5
}
